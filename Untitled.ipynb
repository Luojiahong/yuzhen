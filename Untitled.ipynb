{
 "cells": [
  {
   "cell_type": "code",
   "execution_count": null,
   "metadata": {},
   "outputs": [],
   "source": [
    "from obspy import read\n",
    "import matplotlib\n",
    "from pylab import *\n",
    "from obspy.core import UTCDateTime\n",
    "\n",
    "#使用累加方式读取多个波\n",
    "sac = read('sample/before/SC.XJI.2008131160002.D.00.BHE.sac', debug_headers=True)\n",
    "sac += read('sample/before/SC.XJI.2008131160002.D.00.BHN.sac', debug_headers=True)\n",
    "sac += read('sample/before/SC.XJI.2008131160000.D.00.BHZ.sac', debug_headers=True)\n",
    "\n",
    "#打印每个波的概要，sac是一个Stream，包含三个Trace\n",
    "print sac[0],\"\\n\",sac[1],\"\\n\",sac[2]"
   ]
  },
  {
   "cell_type": "code",
   "execution_count": null,
   "metadata": {
    "collapsed": true
   },
   "outputs": [],
   "source": []
  }
 ],
 "metadata": {
  "kernelspec": {
   "display_name": "Python 2",
   "language": "python",
   "name": "python2"
  },
  "language_info": {
   "codemirror_mode": {
    "name": "ipython",
    "version": 2
   },
   "file_extension": ".py",
   "mimetype": "text/x-python",
   "name": "python",
   "nbconvert_exporter": "python",
   "pygments_lexer": "ipython2",
   "version": "2.7.12"
  }
 },
 "nbformat": 4,
 "nbformat_minor": 2
}
